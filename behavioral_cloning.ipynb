{
 "metadata": {
  "orig_nbformat": 2,
  "kernelspec": {
   "name": "python3",
   "display_name": "Python 3",
   "language": "python"
  }
 },
 "nbformat": 4,
 "nbformat_minor": 2,
 "cells": [
  {
   "cell_type": "code",
   "execution_count": 1,
   "metadata": {},
   "outputs": [],
   "source": [
    "import pandas as pd"
   ]
  },
  {
   "cell_type": "code",
   "execution_count": 2,
   "metadata": {},
   "outputs": [],
   "source": [
    "data_dir = './data/trial1/'"
   ]
  },
  {
   "cell_type": "code",
   "execution_count": 3,
   "metadata": {},
   "outputs": [
    {
     "output_type": "execute_result",
     "data": {
      "text/plain": [
       "'D:\\\\Documents\\\\Udacity\\\\Self-Driving Car Engineer Nanodegree\\\\Computer Vision Fundamentals\\\\Projects\\\\Project 4\\\\CarND-Behavioral-Cloning-P3'"
      ]
     },
     "metadata": {},
     "execution_count": 3
    }
   ],
   "source": [
    "pwd"
   ]
  },
  {
   "cell_type": "code",
   "execution_count": 4,
   "metadata": {},
   "outputs": [],
   "source": [
    "df = pd.read_csv(data_dir+'driving_log.csv', names=['center_cam', 'left_cam', 'right_cam', 'steering', 'throttle', 'brake', 'speed'])"
   ]
  },
  {
   "cell_type": "code",
   "execution_count": 5,
   "metadata": {},
   "outputs": [
    {
     "output_type": "execute_result",
     "data": {
      "text/plain": [
       "                                          center_cam  \\\n",
       "0  D:\\Documents\\Udacity\\Self-Driving Car Engineer...   \n",
       "1  D:\\Documents\\Udacity\\Self-Driving Car Engineer...   \n",
       "2  D:\\Documents\\Udacity\\Self-Driving Car Engineer...   \n",
       "3  D:\\Documents\\Udacity\\Self-Driving Car Engineer...   \n",
       "4  D:\\Documents\\Udacity\\Self-Driving Car Engineer...   \n",
       "\n",
       "                                            left_cam  \\\n",
       "0  D:\\Documents\\Udacity\\Self-Driving Car Engineer...   \n",
       "1  D:\\Documents\\Udacity\\Self-Driving Car Engineer...   \n",
       "2  D:\\Documents\\Udacity\\Self-Driving Car Engineer...   \n",
       "3  D:\\Documents\\Udacity\\Self-Driving Car Engineer...   \n",
       "4  D:\\Documents\\Udacity\\Self-Driving Car Engineer...   \n",
       "\n",
       "                                           right_cam  steering  throttle  \\\n",
       "0  D:\\Documents\\Udacity\\Self-Driving Car Engineer...       0.0       0.0   \n",
       "1  D:\\Documents\\Udacity\\Self-Driving Car Engineer...       0.0       0.0   \n",
       "2  D:\\Documents\\Udacity\\Self-Driving Car Engineer...       0.0       0.0   \n",
       "3  D:\\Documents\\Udacity\\Self-Driving Car Engineer...       0.0       0.0   \n",
       "4  D:\\Documents\\Udacity\\Self-Driving Car Engineer...       0.0       0.0   \n",
       "\n",
       "   brake     speed  \n",
       "0      0  0.000052  \n",
       "1      0  0.000053  \n",
       "2      0  0.000053  \n",
       "3      0  0.000053  \n",
       "4      0  0.000054  "
      ],
      "text/html": "<div>\n<style scoped>\n    .dataframe tbody tr th:only-of-type {\n        vertical-align: middle;\n    }\n\n    .dataframe tbody tr th {\n        vertical-align: top;\n    }\n\n    .dataframe thead th {\n        text-align: right;\n    }\n</style>\n<table border=\"1\" class=\"dataframe\">\n  <thead>\n    <tr style=\"text-align: right;\">\n      <th></th>\n      <th>center_cam</th>\n      <th>left_cam</th>\n      <th>right_cam</th>\n      <th>steering</th>\n      <th>throttle</th>\n      <th>brake</th>\n      <th>speed</th>\n    </tr>\n  </thead>\n  <tbody>\n    <tr>\n      <th>0</th>\n      <td>D:\\Documents\\Udacity\\Self-Driving Car Engineer...</td>\n      <td>D:\\Documents\\Udacity\\Self-Driving Car Engineer...</td>\n      <td>D:\\Documents\\Udacity\\Self-Driving Car Engineer...</td>\n      <td>0.0</td>\n      <td>0.0</td>\n      <td>0</td>\n      <td>0.000052</td>\n    </tr>\n    <tr>\n      <th>1</th>\n      <td>D:\\Documents\\Udacity\\Self-Driving Car Engineer...</td>\n      <td>D:\\Documents\\Udacity\\Self-Driving Car Engineer...</td>\n      <td>D:\\Documents\\Udacity\\Self-Driving Car Engineer...</td>\n      <td>0.0</td>\n      <td>0.0</td>\n      <td>0</td>\n      <td>0.000053</td>\n    </tr>\n    <tr>\n      <th>2</th>\n      <td>D:\\Documents\\Udacity\\Self-Driving Car Engineer...</td>\n      <td>D:\\Documents\\Udacity\\Self-Driving Car Engineer...</td>\n      <td>D:\\Documents\\Udacity\\Self-Driving Car Engineer...</td>\n      <td>0.0</td>\n      <td>0.0</td>\n      <td>0</td>\n      <td>0.000053</td>\n    </tr>\n    <tr>\n      <th>3</th>\n      <td>D:\\Documents\\Udacity\\Self-Driving Car Engineer...</td>\n      <td>D:\\Documents\\Udacity\\Self-Driving Car Engineer...</td>\n      <td>D:\\Documents\\Udacity\\Self-Driving Car Engineer...</td>\n      <td>0.0</td>\n      <td>0.0</td>\n      <td>0</td>\n      <td>0.000053</td>\n    </tr>\n    <tr>\n      <th>4</th>\n      <td>D:\\Documents\\Udacity\\Self-Driving Car Engineer...</td>\n      <td>D:\\Documents\\Udacity\\Self-Driving Car Engineer...</td>\n      <td>D:\\Documents\\Udacity\\Self-Driving Car Engineer...</td>\n      <td>0.0</td>\n      <td>0.0</td>\n      <td>0</td>\n      <td>0.000054</td>\n    </tr>\n  </tbody>\n</table>\n</div>"
     },
     "metadata": {},
     "execution_count": 5
    }
   ],
   "source": [
    "df.head()"
   ]
  },
  {
   "cell_type": "code",
   "execution_count": 6,
   "metadata": {},
   "outputs": [
    {
     "output_type": "stream",
     "name": "stdout",
     "text": [
      "<class 'pandas.core.frame.DataFrame'>\nRangeIndex: 685 entries, 0 to 684\nData columns (total 7 columns):\n #   Column      Non-Null Count  Dtype  \n---  ------      --------------  -----  \n 0   center_cam  685 non-null    object \n 1   left_cam    685 non-null    object \n 2   right_cam   685 non-null    object \n 3   steering    685 non-null    float64\n 4   throttle    685 non-null    float64\n 5   brake       685 non-null    int64  \n 6   speed       685 non-null    float64\ndtypes: float64(3), int64(1), object(3)\nmemory usage: 37.6+ KB\n"
     ]
    }
   ],
   "source": [
    "df.info()"
   ]
  },
  {
   "cell_type": "code",
   "execution_count": 7,
   "metadata": {},
   "outputs": [],
   "source": [
    "df_clean = df.copy()"
   ]
  },
  {
   "cell_type": "code",
   "execution_count": 8,
   "metadata": {},
   "outputs": [],
   "source": [
    "df_clean.iloc[:,0:3] = df_clean.iloc[:,0:3].apply(lambda x: data_dir + 'IMG/' + x.str.split('\\\\').str[-1])"
   ]
  },
  {
   "cell_type": "code",
   "execution_count": 9,
   "metadata": {},
   "outputs": [
    {
     "output_type": "execute_result",
     "data": {
      "text/plain": [
       "                                          center_cam  \\\n",
       "0  ./data/trial1/IMG/center_2021_01_04_23_37_20_5...   \n",
       "1  ./data/trial1/IMG/center_2021_01_04_23_37_20_6...   \n",
       "2  ./data/trial1/IMG/center_2021_01_04_23_37_20_6...   \n",
       "3  ./data/trial1/IMG/center_2021_01_04_23_37_20_7...   \n",
       "4  ./data/trial1/IMG/center_2021_01_04_23_37_20_8...   \n",
       "\n",
       "                                            left_cam  \\\n",
       "0  ./data/trial1/IMG/left_2021_01_04_23_37_20_539...   \n",
       "1  ./data/trial1/IMG/left_2021_01_04_23_37_20_605...   \n",
       "2  ./data/trial1/IMG/left_2021_01_04_23_37_20_675...   \n",
       "3  ./data/trial1/IMG/left_2021_01_04_23_37_20_746...   \n",
       "4  ./data/trial1/IMG/left_2021_01_04_23_37_20_814...   \n",
       "\n",
       "                                           right_cam  steering  throttle  \\\n",
       "0  ./data/trial1/IMG/right_2021_01_04_23_37_20_53...       0.0       0.0   \n",
       "1  ./data/trial1/IMG/right_2021_01_04_23_37_20_60...       0.0       0.0   \n",
       "2  ./data/trial1/IMG/right_2021_01_04_23_37_20_67...       0.0       0.0   \n",
       "3  ./data/trial1/IMG/right_2021_01_04_23_37_20_74...       0.0       0.0   \n",
       "4  ./data/trial1/IMG/right_2021_01_04_23_37_20_81...       0.0       0.0   \n",
       "\n",
       "   brake     speed  \n",
       "0      0  0.000052  \n",
       "1      0  0.000053  \n",
       "2      0  0.000053  \n",
       "3      0  0.000053  \n",
       "4      0  0.000054  "
      ],
      "text/html": "<div>\n<style scoped>\n    .dataframe tbody tr th:only-of-type {\n        vertical-align: middle;\n    }\n\n    .dataframe tbody tr th {\n        vertical-align: top;\n    }\n\n    .dataframe thead th {\n        text-align: right;\n    }\n</style>\n<table border=\"1\" class=\"dataframe\">\n  <thead>\n    <tr style=\"text-align: right;\">\n      <th></th>\n      <th>center_cam</th>\n      <th>left_cam</th>\n      <th>right_cam</th>\n      <th>steering</th>\n      <th>throttle</th>\n      <th>brake</th>\n      <th>speed</th>\n    </tr>\n  </thead>\n  <tbody>\n    <tr>\n      <th>0</th>\n      <td>./data/trial1/IMG/center_2021_01_04_23_37_20_5...</td>\n      <td>./data/trial1/IMG/left_2021_01_04_23_37_20_539...</td>\n      <td>./data/trial1/IMG/right_2021_01_04_23_37_20_53...</td>\n      <td>0.0</td>\n      <td>0.0</td>\n      <td>0</td>\n      <td>0.000052</td>\n    </tr>\n    <tr>\n      <th>1</th>\n      <td>./data/trial1/IMG/center_2021_01_04_23_37_20_6...</td>\n      <td>./data/trial1/IMG/left_2021_01_04_23_37_20_605...</td>\n      <td>./data/trial1/IMG/right_2021_01_04_23_37_20_60...</td>\n      <td>0.0</td>\n      <td>0.0</td>\n      <td>0</td>\n      <td>0.000053</td>\n    </tr>\n    <tr>\n      <th>2</th>\n      <td>./data/trial1/IMG/center_2021_01_04_23_37_20_6...</td>\n      <td>./data/trial1/IMG/left_2021_01_04_23_37_20_675...</td>\n      <td>./data/trial1/IMG/right_2021_01_04_23_37_20_67...</td>\n      <td>0.0</td>\n      <td>0.0</td>\n      <td>0</td>\n      <td>0.000053</td>\n    </tr>\n    <tr>\n      <th>3</th>\n      <td>./data/trial1/IMG/center_2021_01_04_23_37_20_7...</td>\n      <td>./data/trial1/IMG/left_2021_01_04_23_37_20_746...</td>\n      <td>./data/trial1/IMG/right_2021_01_04_23_37_20_74...</td>\n      <td>0.0</td>\n      <td>0.0</td>\n      <td>0</td>\n      <td>0.000053</td>\n    </tr>\n    <tr>\n      <th>4</th>\n      <td>./data/trial1/IMG/center_2021_01_04_23_37_20_8...</td>\n      <td>./data/trial1/IMG/left_2021_01_04_23_37_20_814...</td>\n      <td>./data/trial1/IMG/right_2021_01_04_23_37_20_81...</td>\n      <td>0.0</td>\n      <td>0.0</td>\n      <td>0</td>\n      <td>0.000054</td>\n    </tr>\n  </tbody>\n</table>\n</div>"
     },
     "metadata": {},
     "execution_count": 9
    }
   ],
   "source": [
    "df_clean.head()"
   ]
  },
  {
   "cell_type": "code",
   "execution_count": 10,
   "metadata": {},
   "outputs": [],
   "source": [
    "import matplotlib.pyplot as plt\n",
    "import matplotlib.image as mpimg"
   ]
  },
  {
   "cell_type": "code",
   "execution_count": 11,
   "metadata": {},
   "outputs": [],
   "source": [
    "images = []\n",
    "measurements = []"
   ]
  },
  {
   "cell_type": "code",
   "execution_count": 12,
   "metadata": {},
   "outputs": [],
   "source": [
    "df_clean['center_cam'].apply(lambda x: images.append(mpimg.imread(x)));\n",
    "df_clean['steering'].apply(lambda x: measurements.append(x));"
   ]
  },
  {
   "cell_type": "code",
   "execution_count": 13,
   "metadata": {},
   "outputs": [],
   "source": [
    "import numpy as np"
   ]
  },
  {
   "cell_type": "code",
   "execution_count": 14,
   "metadata": {},
   "outputs": [],
   "source": [
    "X_train = np.array(images)\n",
    "y_train = np.array(measurements)"
   ]
  },
  {
   "source": [
    "# Training"
   ],
   "cell_type": "markdown",
   "metadata": {}
  },
  {
   "cell_type": "code",
   "execution_count": 15,
   "metadata": {},
   "outputs": [],
   "source": [
    "import tensorflow as tf"
   ]
  },
  {
   "cell_type": "code",
   "execution_count": 16,
   "metadata": {},
   "outputs": [],
   "source": [
    "from tensorflow.keras.models import Sequential\n",
    "from tensorflow.keras.layers import Input, Lambda, Flatten, Dense, Conv2D, MaxPool2D, Dropout  "
   ]
  },
  {
   "cell_type": "code",
   "execution_count": 17,
   "metadata": {},
   "outputs": [],
   "source": [
    "from tensorflow.keras.callbacks import TensorBoard, EarlyStopping"
   ]
  },
  {
   "cell_type": "code",
   "execution_count": 18,
   "metadata": {},
   "outputs": [
    {
     "output_type": "execute_result",
     "data": {
      "text/plain": [
       "(685, 160, 320, 3)"
      ]
     },
     "metadata": {},
     "execution_count": 18
    }
   ],
   "source": [
    "X_train.shape"
   ]
  },
  {
   "cell_type": "code",
   "execution_count": 19,
   "metadata": {},
   "outputs": [
    {
     "output_type": "stream",
     "name": "stdout",
     "text": [
      "WARNING:tensorflow:From C:\\Users\\rezar\\anaconda3\\envs\\dl\\lib\\site-packages\\tensorflow_core\\python\\ops\\resource_variable_ops.py:1630: calling BaseResourceVariable.__init__ (from tensorflow.python.ops.resource_variable_ops) with constraint is deprecated and will be removed in a future version.\nInstructions for updating:\nIf using Keras pass *_constraint arguments to layers.\n"
     ]
    }
   ],
   "source": [
    "model = Sequential()\n",
    "model.add(Flatten(input_shape=(160,320,3)))\n",
    "model.add(Dense(1))"
   ]
  },
  {
   "cell_type": "code",
   "execution_count": 20,
   "metadata": {},
   "outputs": [],
   "source": [
    "import cv2"
   ]
  },
  {
   "cell_type": "code",
   "execution_count": 21,
   "metadata": {},
   "outputs": [],
   "source": [
    "modified_images = []"
   ]
  },
  {
   "cell_type": "code",
   "execution_count": 22,
   "metadata": {},
   "outputs": [],
   "source": [
    "scale_percent = 25 # percent of original size\n",
    "width = int(X_train[0].shape[1] * scale_percent / 100)\n",
    "height = int(X_train[0].shape[0] * scale_percent / 100)\n",
    "dim = (width, height)\n",
    "\n",
    "clahe = cv2.createCLAHE(clipLimit=2.0, tileGridSize=(8,8))\n",
    "for image in X_train:\n",
    "    normalized = image.copy()\n",
    "    normalized[:,:,0] = clahe.apply(normalized[:,:,0])\n",
    "    normalized[:,:,1] = clahe.apply(normalized[:,:,1])\n",
    "    normalized[:,:,2] = clahe.apply(normalized[:,:,2])\n",
    "    grayscale = cv2.cvtColor(normalized, cv2.COLOR_RGB2GRAY)\n",
    "    downscaled = cv2.resize(grayscale, dim, interpolation=cv2.INTER_AREA)\n",
    "    modified_images.append(downscaled)\n",
    "# plt.imshow(cv2.resize(X_train[0], dim, interpolation=cv2.INTER_AREA))"
   ]
  },
  {
   "cell_type": "code",
   "execution_count": 23,
   "metadata": {},
   "outputs": [
    {
     "output_type": "execute_result",
     "data": {
      "text/plain": [
       "<matplotlib.image.AxesImage at 0x2163ac73248>"
      ]
     },
     "metadata": {},
     "execution_count": 23
    },
    {
     "output_type": "display_data",
     "data": {
      "text/plain": "<Figure size 432x288 with 1 Axes>",
      "image/svg+xml": "<?xml version=\"1.0\" encoding=\"utf-8\" standalone=\"no\"?>\r\n<!DOCTYPE svg PUBLIC \"-//W3C//DTD SVG 1.1//EN\"\r\n  \"http://www.w3.org/Graphics/SVG/1.1/DTD/svg11.dtd\">\r\n<!-- Created with matplotlib (https://matplotlib.org/) -->\r\n<svg height=\"200.184844pt\" version=\"1.1\" viewBox=\"0 0 368.925 200.184844\" width=\"368.925pt\" xmlns=\"http://www.w3.org/2000/svg\" xmlns:xlink=\"http://www.w3.org/1999/xlink\">\r\n <metadata>\r\n  <rdf:RDF xmlns:cc=\"http://creativecommons.org/ns#\" xmlns:dc=\"http://purl.org/dc/elements/1.1/\" xmlns:rdf=\"http://www.w3.org/1999/02/22-rdf-syntax-ns#\">\r\n   <cc:Work>\r\n    <dc:type rdf:resource=\"http://purl.org/dc/dcmitype/StillImage\"/>\r\n    <dc:date>2021-01-06T04:08:43.804838</dc:date>\r\n    <dc:format>image/svg+xml</dc:format>\r\n    <dc:creator>\r\n     <cc:Agent>\r\n      <dc:title>Matplotlib v3.3.2, https://matplotlib.org/</dc:title>\r\n     </cc:Agent>\r\n    </dc:creator>\r\n   </cc:Work>\r\n  </rdf:RDF>\r\n </metadata>\r\n <defs>\r\n  <style type=\"text/css\">*{stroke-linecap:butt;stroke-linejoin:round;}</style>\r\n </defs>\r\n <g id=\"figure_1\">\r\n  <g id=\"patch_1\">\r\n   <path d=\"M -0 200.184844 \r\nL 368.925 200.184844 \r\nL 368.925 0 \r\nL -0 0 \r\nz\r\n\" style=\"fill:none;\"/>\r\n  </g>\r\n  <g id=\"axes_1\">\r\n   <g id=\"patch_2\">\r\n    <path d=\"M 26.925 176.306719 \r\nL 361.725 176.306719 \r\nL 361.725 8.906719 \r\nL 26.925 8.906719 \r\nz\r\n\" style=\"fill:#ffffff;\"/>\r\n   </g>\r\n   <g clip-path=\"url(#p4860c82562)\">\r\n    <image height=\"168\" id=\"imagec7e3c8f087\" transform=\"scale(1 -1)translate(0 -168)\" width=\"335\" x=\"26.925\" xlink:href=\"data:image/png;base64,\r\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\" y=\"-8.306719\"/>\r\n   </g>\r\n   <g id=\"matplotlib.axis_1\">\r\n    <g id=\"xtick_1\">\r\n     <g id=\"line2d_1\">\r\n      <defs>\r\n       <path d=\"M 0 0 \r\nL 0 3.5 \r\n\" id=\"m610854f700\" style=\"stroke:#000000;stroke-width:0.8;\"/>\r\n      </defs>\r\n      <g>\r\n       <use style=\"stroke:#000000;stroke-width:0.8;\" x=\"29.0175\" xlink:href=\"#m610854f700\" y=\"176.306719\"/>\r\n      </g>\r\n     </g>\r\n     <g id=\"text_1\">\r\n      <!-- 0 -->\r\n      <g transform=\"translate(25.83625 190.905156)scale(0.1 -0.1)\">\r\n       <defs>\r\n        <path d=\"M 31.78125 66.40625 \r\nQ 24.171875 66.40625 20.328125 58.90625 \r\nQ 16.5 51.421875 16.5 36.375 \r\nQ 16.5 21.390625 20.328125 13.890625 \r\nQ 24.171875 6.390625 31.78125 6.390625 \r\nQ 39.453125 6.390625 43.28125 13.890625 \r\nQ 47.125 21.390625 47.125 36.375 \r\nQ 47.125 51.421875 43.28125 58.90625 \r\nQ 39.453125 66.40625 31.78125 66.40625 \r\nz\r\nM 31.78125 74.21875 \r\nQ 44.046875 74.21875 50.515625 64.515625 \r\nQ 56.984375 54.828125 56.984375 36.375 \r\nQ 56.984375 17.96875 50.515625 8.265625 \r\nQ 44.046875 -1.421875 31.78125 -1.421875 \r\nQ 19.53125 -1.421875 13.0625 8.265625 \r\nQ 6.59375 17.96875 6.59375 36.375 \r\nQ 6.59375 54.828125 13.0625 64.515625 \r\nQ 19.53125 74.21875 31.78125 74.21875 \r\nz\r\n\" id=\"DejaVuSans-48\"/>\r\n       </defs>\r\n       <use xlink:href=\"#DejaVuSans-48\"/>\r\n      </g>\r\n     </g>\r\n    </g>\r\n    <g id=\"xtick_2\">\r\n     <g id=\"line2d_2\">\r\n      <g>\r\n       <use style=\"stroke:#000000;stroke-width:0.8;\" x=\"70.8675\" xlink:href=\"#m610854f700\" y=\"176.306719\"/>\r\n      </g>\r\n     </g>\r\n     <g id=\"text_2\">\r\n      <!-- 10 -->\r\n      <g transform=\"translate(64.505 190.905156)scale(0.1 -0.1)\">\r\n       <defs>\r\n        <path d=\"M 12.40625 8.296875 \r\nL 28.515625 8.296875 \r\nL 28.515625 63.921875 \r\nL 10.984375 60.40625 \r\nL 10.984375 69.390625 \r\nL 28.421875 72.90625 \r\nL 38.28125 72.90625 \r\nL 38.28125 8.296875 \r\nL 54.390625 8.296875 \r\nL 54.390625 0 \r\nL 12.40625 0 \r\nz\r\n\" id=\"DejaVuSans-49\"/>\r\n       </defs>\r\n       <use xlink:href=\"#DejaVuSans-49\"/>\r\n       <use x=\"63.623047\" xlink:href=\"#DejaVuSans-48\"/>\r\n      </g>\r\n     </g>\r\n    </g>\r\n    <g id=\"xtick_3\">\r\n     <g id=\"line2d_3\">\r\n      <g>\r\n       <use style=\"stroke:#000000;stroke-width:0.8;\" x=\"112.7175\" xlink:href=\"#m610854f700\" y=\"176.306719\"/>\r\n      </g>\r\n     </g>\r\n     <g id=\"text_3\">\r\n      <!-- 20 -->\r\n      <g transform=\"translate(106.355 190.905156)scale(0.1 -0.1)\">\r\n       <defs>\r\n        <path d=\"M 19.1875 8.296875 \r\nL 53.609375 8.296875 \r\nL 53.609375 0 \r\nL 7.328125 0 \r\nL 7.328125 8.296875 \r\nQ 12.9375 14.109375 22.625 23.890625 \r\nQ 32.328125 33.6875 34.8125 36.53125 \r\nQ 39.546875 41.84375 41.421875 45.53125 \r\nQ 43.3125 49.21875 43.3125 52.78125 \r\nQ 43.3125 58.59375 39.234375 62.25 \r\nQ 35.15625 65.921875 28.609375 65.921875 \r\nQ 23.96875 65.921875 18.8125 64.3125 \r\nQ 13.671875 62.703125 7.8125 59.421875 \r\nL 7.8125 69.390625 \r\nQ 13.765625 71.78125 18.9375 73 \r\nQ 24.125 74.21875 28.421875 74.21875 \r\nQ 39.75 74.21875 46.484375 68.546875 \r\nQ 53.21875 62.890625 53.21875 53.421875 \r\nQ 53.21875 48.921875 51.53125 44.890625 \r\nQ 49.859375 40.875 45.40625 35.40625 \r\nQ 44.1875 33.984375 37.640625 27.21875 \r\nQ 31.109375 20.453125 19.1875 8.296875 \r\nz\r\n\" id=\"DejaVuSans-50\"/>\r\n       </defs>\r\n       <use xlink:href=\"#DejaVuSans-50\"/>\r\n       <use x=\"63.623047\" xlink:href=\"#DejaVuSans-48\"/>\r\n      </g>\r\n     </g>\r\n    </g>\r\n    <g id=\"xtick_4\">\r\n     <g id=\"line2d_4\">\r\n      <g>\r\n       <use style=\"stroke:#000000;stroke-width:0.8;\" x=\"154.5675\" xlink:href=\"#m610854f700\" y=\"176.306719\"/>\r\n      </g>\r\n     </g>\r\n     <g id=\"text_4\">\r\n      <!-- 30 -->\r\n      <g transform=\"translate(148.205 190.905156)scale(0.1 -0.1)\">\r\n       <defs>\r\n        <path d=\"M 40.578125 39.3125 \r\nQ 47.65625 37.796875 51.625 33 \r\nQ 55.609375 28.21875 55.609375 21.1875 \r\nQ 55.609375 10.40625 48.1875 4.484375 \r\nQ 40.765625 -1.421875 27.09375 -1.421875 \r\nQ 22.515625 -1.421875 17.65625 -0.515625 \r\nQ 12.796875 0.390625 7.625 2.203125 \r\nL 7.625 11.71875 \r\nQ 11.71875 9.328125 16.59375 8.109375 \r\nQ 21.484375 6.890625 26.8125 6.890625 \r\nQ 36.078125 6.890625 40.9375 10.546875 \r\nQ 45.796875 14.203125 45.796875 21.1875 \r\nQ 45.796875 27.640625 41.28125 31.265625 \r\nQ 36.765625 34.90625 28.71875 34.90625 \r\nL 20.21875 34.90625 \r\nL 20.21875 43.015625 \r\nL 29.109375 43.015625 \r\nQ 36.375 43.015625 40.234375 45.921875 \r\nQ 44.09375 48.828125 44.09375 54.296875 \r\nQ 44.09375 59.90625 40.109375 62.90625 \r\nQ 36.140625 65.921875 28.71875 65.921875 \r\nQ 24.65625 65.921875 20.015625 65.03125 \r\nQ 15.375 64.15625 9.8125 62.3125 \r\nL 9.8125 71.09375 \r\nQ 15.4375 72.65625 20.34375 73.4375 \r\nQ 25.25 74.21875 29.59375 74.21875 \r\nQ 40.828125 74.21875 47.359375 69.109375 \r\nQ 53.90625 64.015625 53.90625 55.328125 \r\nQ 53.90625 49.265625 50.4375 45.09375 \r\nQ 46.96875 40.921875 40.578125 39.3125 \r\nz\r\n\" id=\"DejaVuSans-51\"/>\r\n       </defs>\r\n       <use xlink:href=\"#DejaVuSans-51\"/>\r\n       <use x=\"63.623047\" xlink:href=\"#DejaVuSans-48\"/>\r\n      </g>\r\n     </g>\r\n    </g>\r\n    <g id=\"xtick_5\">\r\n     <g id=\"line2d_5\">\r\n      <g>\r\n       <use style=\"stroke:#000000;stroke-width:0.8;\" x=\"196.4175\" xlink:href=\"#m610854f700\" y=\"176.306719\"/>\r\n      </g>\r\n     </g>\r\n     <g id=\"text_5\">\r\n      <!-- 40 -->\r\n      <g transform=\"translate(190.055 190.905156)scale(0.1 -0.1)\">\r\n       <defs>\r\n        <path d=\"M 37.796875 64.3125 \r\nL 12.890625 25.390625 \r\nL 37.796875 25.390625 \r\nz\r\nM 35.203125 72.90625 \r\nL 47.609375 72.90625 \r\nL 47.609375 25.390625 \r\nL 58.015625 25.390625 \r\nL 58.015625 17.1875 \r\nL 47.609375 17.1875 \r\nL 47.609375 0 \r\nL 37.796875 0 \r\nL 37.796875 17.1875 \r\nL 4.890625 17.1875 \r\nL 4.890625 26.703125 \r\nz\r\n\" id=\"DejaVuSans-52\"/>\r\n       </defs>\r\n       <use xlink:href=\"#DejaVuSans-52\"/>\r\n       <use x=\"63.623047\" xlink:href=\"#DejaVuSans-48\"/>\r\n      </g>\r\n     </g>\r\n    </g>\r\n    <g id=\"xtick_6\">\r\n     <g id=\"line2d_6\">\r\n      <g>\r\n       <use style=\"stroke:#000000;stroke-width:0.8;\" x=\"238.2675\" xlink:href=\"#m610854f700\" y=\"176.306719\"/>\r\n      </g>\r\n     </g>\r\n     <g id=\"text_6\">\r\n      <!-- 50 -->\r\n      <g transform=\"translate(231.905 190.905156)scale(0.1 -0.1)\">\r\n       <defs>\r\n        <path d=\"M 10.796875 72.90625 \r\nL 49.515625 72.90625 \r\nL 49.515625 64.59375 \r\nL 19.828125 64.59375 \r\nL 19.828125 46.734375 \r\nQ 21.96875 47.46875 24.109375 47.828125 \r\nQ 26.265625 48.1875 28.421875 48.1875 \r\nQ 40.625 48.1875 47.75 41.5 \r\nQ 54.890625 34.8125 54.890625 23.390625 \r\nQ 54.890625 11.625 47.5625 5.09375 \r\nQ 40.234375 -1.421875 26.90625 -1.421875 \r\nQ 22.3125 -1.421875 17.546875 -0.640625 \r\nQ 12.796875 0.140625 7.71875 1.703125 \r\nL 7.71875 11.625 \r\nQ 12.109375 9.234375 16.796875 8.0625 \r\nQ 21.484375 6.890625 26.703125 6.890625 \r\nQ 35.15625 6.890625 40.078125 11.328125 \r\nQ 45.015625 15.765625 45.015625 23.390625 \r\nQ 45.015625 31 40.078125 35.4375 \r\nQ 35.15625 39.890625 26.703125 39.890625 \r\nQ 22.75 39.890625 18.8125 39.015625 \r\nQ 14.890625 38.140625 10.796875 36.28125 \r\nz\r\n\" id=\"DejaVuSans-53\"/>\r\n       </defs>\r\n       <use xlink:href=\"#DejaVuSans-53\"/>\r\n       <use x=\"63.623047\" xlink:href=\"#DejaVuSans-48\"/>\r\n      </g>\r\n     </g>\r\n    </g>\r\n    <g id=\"xtick_7\">\r\n     <g id=\"line2d_7\">\r\n      <g>\r\n       <use style=\"stroke:#000000;stroke-width:0.8;\" x=\"280.1175\" xlink:href=\"#m610854f700\" y=\"176.306719\"/>\r\n      </g>\r\n     </g>\r\n     <g id=\"text_7\">\r\n      <!-- 60 -->\r\n      <g transform=\"translate(273.755 190.905156)scale(0.1 -0.1)\">\r\n       <defs>\r\n        <path d=\"M 33.015625 40.375 \r\nQ 26.375 40.375 22.484375 35.828125 \r\nQ 18.609375 31.296875 18.609375 23.390625 \r\nQ 18.609375 15.53125 22.484375 10.953125 \r\nQ 26.375 6.390625 33.015625 6.390625 \r\nQ 39.65625 6.390625 43.53125 10.953125 \r\nQ 47.40625 15.53125 47.40625 23.390625 \r\nQ 47.40625 31.296875 43.53125 35.828125 \r\nQ 39.65625 40.375 33.015625 40.375 \r\nz\r\nM 52.59375 71.296875 \r\nL 52.59375 62.3125 \r\nQ 48.875 64.0625 45.09375 64.984375 \r\nQ 41.3125 65.921875 37.59375 65.921875 \r\nQ 27.828125 65.921875 22.671875 59.328125 \r\nQ 17.53125 52.734375 16.796875 39.40625 \r\nQ 19.671875 43.65625 24.015625 45.921875 \r\nQ 28.375 48.1875 33.59375 48.1875 \r\nQ 44.578125 48.1875 50.953125 41.515625 \r\nQ 57.328125 34.859375 57.328125 23.390625 \r\nQ 57.328125 12.15625 50.6875 5.359375 \r\nQ 44.046875 -1.421875 33.015625 -1.421875 \r\nQ 20.359375 -1.421875 13.671875 8.265625 \r\nQ 6.984375 17.96875 6.984375 36.375 \r\nQ 6.984375 53.65625 15.1875 63.9375 \r\nQ 23.390625 74.21875 37.203125 74.21875 \r\nQ 40.921875 74.21875 44.703125 73.484375 \r\nQ 48.484375 72.75 52.59375 71.296875 \r\nz\r\n\" id=\"DejaVuSans-54\"/>\r\n       </defs>\r\n       <use xlink:href=\"#DejaVuSans-54\"/>\r\n       <use x=\"63.623047\" xlink:href=\"#DejaVuSans-48\"/>\r\n      </g>\r\n     </g>\r\n    </g>\r\n    <g id=\"xtick_8\">\r\n     <g id=\"line2d_8\">\r\n      <g>\r\n       <use style=\"stroke:#000000;stroke-width:0.8;\" x=\"321.9675\" xlink:href=\"#m610854f700\" y=\"176.306719\"/>\r\n      </g>\r\n     </g>\r\n     <g id=\"text_8\">\r\n      <!-- 70 -->\r\n      <g transform=\"translate(315.605 190.905156)scale(0.1 -0.1)\">\r\n       <defs>\r\n        <path d=\"M 8.203125 72.90625 \r\nL 55.078125 72.90625 \r\nL 55.078125 68.703125 \r\nL 28.609375 0 \r\nL 18.3125 0 \r\nL 43.21875 64.59375 \r\nL 8.203125 64.59375 \r\nz\r\n\" id=\"DejaVuSans-55\"/>\r\n       </defs>\r\n       <use xlink:href=\"#DejaVuSans-55\"/>\r\n       <use x=\"63.623047\" xlink:href=\"#DejaVuSans-48\"/>\r\n      </g>\r\n     </g>\r\n    </g>\r\n   </g>\r\n   <g id=\"matplotlib.axis_2\">\r\n    <g id=\"ytick_1\">\r\n     <g id=\"line2d_9\">\r\n      <defs>\r\n       <path d=\"M 0 0 \r\nL -3.5 0 \r\n\" id=\"mda3626d260\" style=\"stroke:#000000;stroke-width:0.8;\"/>\r\n      </defs>\r\n      <g>\r\n       <use style=\"stroke:#000000;stroke-width:0.8;\" x=\"26.925\" xlink:href=\"#mda3626d260\" y=\"10.999219\"/>\r\n      </g>\r\n     </g>\r\n     <g id=\"text_9\">\r\n      <!-- 0 -->\r\n      <g transform=\"translate(13.5625 14.798438)scale(0.1 -0.1)\">\r\n       <use xlink:href=\"#DejaVuSans-48\"/>\r\n      </g>\r\n     </g>\r\n    </g>\r\n    <g id=\"ytick_2\">\r\n     <g id=\"line2d_10\">\r\n      <g>\r\n       <use style=\"stroke:#000000;stroke-width:0.8;\" x=\"26.925\" xlink:href=\"#mda3626d260\" y=\"31.924219\"/>\r\n      </g>\r\n     </g>\r\n     <g id=\"text_10\">\r\n      <!-- 5 -->\r\n      <g transform=\"translate(13.5625 35.723438)scale(0.1 -0.1)\">\r\n       <use xlink:href=\"#DejaVuSans-53\"/>\r\n      </g>\r\n     </g>\r\n    </g>\r\n    <g id=\"ytick_3\">\r\n     <g id=\"line2d_11\">\r\n      <g>\r\n       <use style=\"stroke:#000000;stroke-width:0.8;\" x=\"26.925\" xlink:href=\"#mda3626d260\" y=\"52.849219\"/>\r\n      </g>\r\n     </g>\r\n     <g id=\"text_11\">\r\n      <!-- 10 -->\r\n      <g transform=\"translate(7.2 56.648438)scale(0.1 -0.1)\">\r\n       <use xlink:href=\"#DejaVuSans-49\"/>\r\n       <use x=\"63.623047\" xlink:href=\"#DejaVuSans-48\"/>\r\n      </g>\r\n     </g>\r\n    </g>\r\n    <g id=\"ytick_4\">\r\n     <g id=\"line2d_12\">\r\n      <g>\r\n       <use style=\"stroke:#000000;stroke-width:0.8;\" x=\"26.925\" xlink:href=\"#mda3626d260\" y=\"73.774219\"/>\r\n      </g>\r\n     </g>\r\n     <g id=\"text_12\">\r\n      <!-- 15 -->\r\n      <g transform=\"translate(7.2 77.573438)scale(0.1 -0.1)\">\r\n       <use xlink:href=\"#DejaVuSans-49\"/>\r\n       <use x=\"63.623047\" xlink:href=\"#DejaVuSans-53\"/>\r\n      </g>\r\n     </g>\r\n    </g>\r\n    <g id=\"ytick_5\">\r\n     <g id=\"line2d_13\">\r\n      <g>\r\n       <use style=\"stroke:#000000;stroke-width:0.8;\" x=\"26.925\" xlink:href=\"#mda3626d260\" y=\"94.699219\"/>\r\n      </g>\r\n     </g>\r\n     <g id=\"text_13\">\r\n      <!-- 20 -->\r\n      <g transform=\"translate(7.2 98.498438)scale(0.1 -0.1)\">\r\n       <use xlink:href=\"#DejaVuSans-50\"/>\r\n       <use x=\"63.623047\" xlink:href=\"#DejaVuSans-48\"/>\r\n      </g>\r\n     </g>\r\n    </g>\r\n    <g id=\"ytick_6\">\r\n     <g id=\"line2d_14\">\r\n      <g>\r\n       <use style=\"stroke:#000000;stroke-width:0.8;\" x=\"26.925\" xlink:href=\"#mda3626d260\" y=\"115.624219\"/>\r\n      </g>\r\n     </g>\r\n     <g id=\"text_14\">\r\n      <!-- 25 -->\r\n      <g transform=\"translate(7.2 119.423438)scale(0.1 -0.1)\">\r\n       <use xlink:href=\"#DejaVuSans-50\"/>\r\n       <use x=\"63.623047\" xlink:href=\"#DejaVuSans-53\"/>\r\n      </g>\r\n     </g>\r\n    </g>\r\n    <g id=\"ytick_7\">\r\n     <g id=\"line2d_15\">\r\n      <g>\r\n       <use style=\"stroke:#000000;stroke-width:0.8;\" x=\"26.925\" xlink:href=\"#mda3626d260\" y=\"136.549219\"/>\r\n      </g>\r\n     </g>\r\n     <g id=\"text_15\">\r\n      <!-- 30 -->\r\n      <g transform=\"translate(7.2 140.348438)scale(0.1 -0.1)\">\r\n       <use xlink:href=\"#DejaVuSans-51\"/>\r\n       <use x=\"63.623047\" xlink:href=\"#DejaVuSans-48\"/>\r\n      </g>\r\n     </g>\r\n    </g>\r\n    <g id=\"ytick_8\">\r\n     <g id=\"line2d_16\">\r\n      <g>\r\n       <use style=\"stroke:#000000;stroke-width:0.8;\" x=\"26.925\" xlink:href=\"#mda3626d260\" y=\"157.474219\"/>\r\n      </g>\r\n     </g>\r\n     <g id=\"text_16\">\r\n      <!-- 35 -->\r\n      <g transform=\"translate(7.2 161.273438)scale(0.1 -0.1)\">\r\n       <use xlink:href=\"#DejaVuSans-51\"/>\r\n       <use x=\"63.623047\" xlink:href=\"#DejaVuSans-53\"/>\r\n      </g>\r\n     </g>\r\n    </g>\r\n   </g>\r\n   <g id=\"patch_3\">\r\n    <path d=\"M 26.925 176.306719 \r\nL 26.925 8.906719 \r\n\" style=\"fill:none;stroke:#000000;stroke-linecap:square;stroke-linejoin:miter;stroke-width:0.8;\"/>\r\n   </g>\r\n   <g id=\"patch_4\">\r\n    <path d=\"M 361.725 176.306719 \r\nL 361.725 8.906719 \r\n\" style=\"fill:none;stroke:#000000;stroke-linecap:square;stroke-linejoin:miter;stroke-width:0.8;\"/>\r\n   </g>\r\n   <g id=\"patch_5\">\r\n    <path d=\"M 26.925 176.306719 \r\nL 361.725 176.306719 \r\n\" style=\"fill:none;stroke:#000000;stroke-linecap:square;stroke-linejoin:miter;stroke-width:0.8;\"/>\r\n   </g>\r\n   <g id=\"patch_6\">\r\n    <path d=\"M 26.925 8.906719 \r\nL 361.725 8.906719 \r\n\" style=\"fill:none;stroke:#000000;stroke-linecap:square;stroke-linejoin:miter;stroke-width:0.8;\"/>\r\n   </g>\r\n  </g>\r\n </g>\r\n <defs>\r\n  <clipPath id=\"p4860c82562\">\r\n   <rect height=\"167.4\" width=\"334.8\" x=\"26.925\" y=\"8.906719\"/>\r\n  </clipPath>\r\n </defs>\r\n</svg>\r\n",
      "image/png": "[encoded data removed]"
     },
     "metadata": {
      "needs_background": "light"
     }
    }
   ],
   "source": [
    "plt.imshow(modified_images[100], cmap='gray')"
   ]
  },
  {
   "cell_type": "code",
   "execution_count": 24,
   "metadata": {},
   "outputs": [],
   "source": [
    "X_train_modified = np.array(modified_images)\n",
    "# Adding a dimension for Keras processing purposes\n",
    "X_train_modified = np.expand_dims(X_train_modified, 3)"
   ]
  },
  {
   "cell_type": "code",
   "execution_count": 54,
   "metadata": {},
   "outputs": [],
   "source": [
    "tf.keras.backend.clear_session()"
   ]
  },
  {
   "cell_type": "code",
   "execution_count": 55,
   "metadata": {},
   "outputs": [],
   "source": [
    "model = Sequential()\n",
    "# Input Layer\n",
    "model.add(Lambda(lambda x: x/255.0 -0.5, input_shape=(height, width, 1)))\n",
    "# model.add(Lambda(lambda x: x/255.0 -0.5, input_shape=(160,320,1)))\n",
    "# Convolution 1\n",
    "model.add(Conv2D(32, (3,3), activation='relu'))\n",
    "model.add(MaxPool2D(strides=(1,1)))\n",
    "# Convolution 2\n",
    "model.add(Conv2D(64, (3,3), activation='relu'))\n",
    "model.add(MaxPool2D(strides=(1,1)))\n",
    "# Convolution 3\n",
    "model.add(Conv2D(128, (3,3), activation='relu'))\n",
    "model.add(MaxPool2D(strides=(1,1)))\n",
    "# Flatten and Dropout\n",
    "model.add(Flatten())\n",
    "model.add(Dropout(0.25))\n",
    "# Fully Connected 1\n",
    "model.add(Dense(120, activation='relu'))\n",
    "# Fully Connected 2 with Dropout\n",
    "model.add(Dense(84, activation='relu'))\n",
    "model.add(Dropout(0.5))\n",
    "# Output\n",
    "model.add(Dense(1));"
   ]
  },
  {
   "cell_type": "code",
   "execution_count": 47,
   "metadata": {},
   "outputs": [
    {
     "output_type": "stream",
     "name": "stdout",
     "text": [
      "Train on 548 samples, validate on 137 samples\n",
      "548/548 [==============================] - 7s 13ms/sample - loss: 55.6031 - val_loss: 0.4831\n"
     ]
    }
   ],
   "source": [
    "# model.compile(loss='mse', optimizer='adam')\n",
    "# history = model.fit(X_train_modified, y_train, epochs=1, batch_size=256, validation_split=0.2, shuffle=True)"
   ]
  },
  {
   "cell_type": "code",
   "execution_count": 51,
   "metadata": {},
   "outputs": [],
   "source": [
    "# log_dir = \"logs/fit/\" + datetime.datetime.now().strftime(\"%Y%m%d-%H%M%S\")\n",
    "log_dir = \"logs\\\\fit\\\\\"\n",
    "tensorboard_callback = TensorBoard(log_dir=log_dir, histogram_freq=1)"
   ]
  },
  {
   "cell_type": "code",
   "execution_count": 52,
   "metadata": {},
   "outputs": [],
   "source": [
    "stopper = EarlyStopping(monitor='val_acc', min_delta=0.0003, patience=5)"
   ]
  },
  {
   "cell_type": "code",
   "execution_count": 61,
   "metadata": {},
   "outputs": [
    {
     "output_type": "stream",
     "name": "stdout",
     "text": [
      "Train on 548 samples, validate on 137 samples\n",
      "Epoch 1/100\n",
      "548/548 [==============================] - 6s 11ms/sample - loss: 0.2804 - acc: 0.0967 - val_loss: 0.2282 - val_acc: 0.0657\n",
      "Epoch 2/100\n",
      "548/548 [==============================] - 5s 9ms/sample - loss: 0.0051 - acc: 0.1186 - val_loss: 0.2285 - val_acc: 0.0657\n",
      "Epoch 3/100\n",
      "548/548 [==============================] - 5s 9ms/sample - loss: 0.0043 - acc: 0.1186 - val_loss: 0.2234 - val_acc: 0.0657\n",
      "Epoch 4/100\n",
      "548/548 [==============================] - 5s 9ms/sample - loss: 0.0035 - acc: 0.1186 - val_loss: 0.2203 - val_acc: 0.0657\n",
      "Epoch 5/100\n",
      "548/548 [==============================] - 5s 9ms/sample - loss: 0.0034 - acc: 0.1186 - val_loss: 0.2275 - val_acc: 0.0657\n",
      "Epoch 6/100\n",
      "548/548 [==============================] - 5s 9ms/sample - loss: 0.0040 - acc: 0.1186 - val_loss: 0.2217 - val_acc: 0.0657\n"
     ]
    }
   ],
   "source": [
    "model.compile(loss='mse', optimizer='adam', metrics=['accuracy'])\n",
    "history = model.fit(X_train_modified, y_train, epochs=100, batch_size=200, validation_split=0.2, shuffle=True, callbacks=[tensorboard_callback, stopper])"
   ]
  },
  {
   "cell_type": "code",
   "execution_count": 62,
   "metadata": {},
   "outputs": [],
   "source": [
    "model.save('model.h5')"
   ]
  },
  {
   "cell_type": "code",
   "execution_count": 31,
   "metadata": {},
   "outputs": [],
   "source": [
    "from tensorflow.keras.models import load_model"
   ]
  },
  {
   "cell_type": "code",
   "execution_count": 32,
   "metadata": {},
   "outputs": [
    {
     "output_type": "stream",
     "name": "stdout",
     "text": [
      "WARNING:tensorflow:From C:\\Users\\rezar\\anaconda3\\envs\\dl\\lib\\site-packages\\tensorflow_core\\python\\ops\\init_ops.py:97: calling GlorotUniform.__init__ (from tensorflow.python.ops.init_ops) with dtype is deprecated and will be removed in a future version.\n",
      "Instructions for updating:\n",
      "Call initializer instance with the dtype argument instead of passing it to the constructor\n",
      "WARNING:tensorflow:From C:\\Users\\rezar\\anaconda3\\envs\\dl\\lib\\site-packages\\tensorflow_core\\python\\ops\\init_ops.py:97: calling Zeros.__init__ (from tensorflow.python.ops.init_ops) with dtype is deprecated and will be removed in a future version.\n",
      "Instructions for updating:\n",
      "Call initializer instance with the dtype argument instead of passing it to the constructor\n"
     ]
    }
   ],
   "source": [
    "model = load_model('model.h5')"
   ]
  },
  {
   "cell_type": "code",
   "execution_count": 69,
   "metadata": {},
   "outputs": [
    {
     "output_type": "execute_result",
     "data": {
      "text/plain": [
       "array([[-0.03223201]], dtype=float32)"
      ]
     },
     "metadata": {},
     "execution_count": 69
    }
   ],
   "source": [
    "model.predict(np.expand_dims(X_train_modified[100], axis=0))"
   ]
  },
  {
   "cell_type": "code",
   "execution_count": 26,
   "metadata": {
    "tags": []
   },
   "outputs": [],
   "source": [
    "# %run drive.py model.h5"
   ]
  }
 ]
}